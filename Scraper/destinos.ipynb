{
 "cells": [
  {
   "cell_type": "code",
   "execution_count": 4,
   "metadata": {},
   "outputs": [],
   "source": [
    "go = True\n",
    "aeroportos = []\n",
    "while go == True:\n",
    "    dictionary = {'Estado':input(\"Estado:\"), 'IATA':input(\"IATA:\")}\n",
    "    aeroportos.append(dictionary)\n",
    "    print(aeroportos)\n",
    "\n",
    "    resp = input(\"CONTINUAR:\")\n",
    "    if resp.upper() == 'N':\n",
    "        go = False\n",
    "\n",
    "print(aeroportos)\n"
   ]
  }
 ],
 "metadata": {
  "kernelspec": {
   "display_name": "Python 3.10.5 64-bit",
   "language": "python",
   "name": "python3"
  },
  "language_info": {
   "codemirror_mode": {
    "name": "ipython",
    "version": 3
   },
   "file_extension": ".py",
   "mimetype": "text/x-python",
   "name": "python",
   "nbconvert_exporter": "python",
   "pygments_lexer": "ipython3",
   "version": "3.10.5"
  },
  "orig_nbformat": 4,
  "vscode": {
   "interpreter": {
    "hash": "884b44ceef68af4b463ae7eb0f5b236f4cf5bfd4422862bb623a61d30bdb4b6c"
   }
  }
 },
 "nbformat": 4,
 "nbformat_minor": 2
}
